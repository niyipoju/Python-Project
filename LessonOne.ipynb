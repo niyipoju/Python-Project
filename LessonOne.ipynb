{
 "cells": [
  {
   "cell_type": "code",
   "execution_count": 74,
   "id": "2c9cc1f2-5787-41a7-a947-deaa0e8c2093",
   "metadata": {},
   "outputs": [
    {
     "name": "stdout",
     "output_type": "stream",
     "text": [
      "Timothy Afolabi\n",
      "Hello World!\n"
     ]
    }
   ],
   "source": [
    "firstName = \"Timothy\"\n",
    "lastName = \"Afolabi\"\n",
    "print(firstName+' '+lastName)\n",
    "print(\"Hello World!\")"
   ]
  },
  {
   "cell_type": "code",
   "execution_count": null,
   "id": "525105b6-f36a-40ab-8513-be4c99ebe2d8",
   "metadata": {},
   "outputs": [],
   "source": []
  },
  {
   "cell_type": "code",
   "execution_count": 75,
   "id": "eb2a243e-3ef4-4e12-b404-3c94d5317cfc",
   "metadata": {},
   "outputs": [
    {
     "name": "stdout",
     "output_type": "stream",
     "text": [
      "79\n"
     ]
    }
   ],
   "source": [
    "print(79)"
   ]
  },
  {
   "cell_type": "code",
   "execution_count": 76,
   "id": "0300f04d-16cd-4cc1-9b79-f89922cea36d",
   "metadata": {},
   "outputs": [
    {
     "name": "stdout",
     "output_type": "stream",
     "text": [
      "Tim Afolabi\n"
     ]
    }
   ],
   "source": [
    "# In this place I would like to print my name\n",
    "print(\"Tim Afolabi\")\n",
    "#of course, you can see that this will print the name I specified"
   ]
  },
  {
   "cell_type": "code",
   "execution_count": 77,
   "id": "72353d55-6af0-4e2f-81bd-293a06c217f3",
   "metadata": {},
   "outputs": [],
   "source": [
    "acc_balance = 1000\n",
    "acc_balance_2 = \"100\"\n",
    "# print(\"Your total account balance is: \"+acc_balance+acc_balance_2)"
   ]
  },
  {
   "cell_type": "code",
   "execution_count": 78,
   "id": "74d5ec7d-9a62-4556-940b-d8b8c30b3706",
   "metadata": {},
   "outputs": [
    {
     "data": {
      "text/plain": [
       "str"
      ]
     },
     "execution_count": 78,
     "metadata": {},
     "output_type": "execute_result"
    }
   ],
   "source": [
    "acc_balance = \"1000\"\n",
    "type(acc_balance)"
   ]
  },
  {
   "cell_type": "code",
   "execution_count": 79,
   "id": "28f8b06f-9cbd-4c79-badf-fd28ae23268d",
   "metadata": {},
   "outputs": [],
   "source": [
    "department1 = \"Computer Science\"\n",
    "age = 12"
   ]
  },
  {
   "cell_type": "code",
   "execution_count": 80,
   "id": "66a20da1-0913-4ff9-b7e3-03e521dd1b72",
   "metadata": {},
   "outputs": [
    {
     "name": "stdout",
     "output_type": "stream",
     "text": [
      "Hooray, our first class has started\n"
     ]
    }
   ],
   "source": [
    "print(\"Hooray, our first class has started\")"
   ]
  },
  {
   "cell_type": "code",
   "execution_count": 81,
   "id": "e32c28fa-61d3-458b-8345-370cf82da7a7",
   "metadata": {},
   "outputs": [
    {
     "data": {
      "text/plain": [
       "str"
      ]
     },
     "execution_count": 81,
     "metadata": {},
     "output_type": "execute_result"
    }
   ],
   "source": [
    "type(department1)"
   ]
  },
  {
   "cell_type": "code",
   "execution_count": 82,
   "id": "73308922-1cec-498f-8588-1c98478275d0",
   "metadata": {},
   "outputs": [
    {
     "data": {
      "text/plain": [
       "float"
      ]
     },
     "execution_count": 82,
     "metadata": {},
     "output_type": "execute_result"
    }
   ],
   "source": [
    "type(3.4555)"
   ]
  },
  {
   "cell_type": "code",
   "execution_count": 83,
   "id": "2136f044-d3d4-45a7-8fb2-ad3e6462030a",
   "metadata": {},
   "outputs": [
    {
     "data": {
      "text/plain": [
       "bool"
      ]
     },
     "execution_count": 83,
     "metadata": {},
     "output_type": "execute_result"
    }
   ],
   "source": [
    "type(False)"
   ]
  },
  {
   "cell_type": "code",
   "execution_count": 84,
   "id": "56bb1b5a-95ce-4075-ba46-8c3b8681601a",
   "metadata": {},
   "outputs": [
    {
     "name": "stdout",
     "output_type": "stream",
     "text": [
      "TIMOTHY\n",
      "timothy\n",
      "Timothy\n",
      "Oyo\n"
     ]
    }
   ],
   "source": [
    "firstName = \"timothy\"\n",
    "state = \"oYO\";\n",
    "print(firstName.upper())\n",
    "print(firstName.lower())\n",
    "print(firstName.title())\n",
    "print(state.title())"
   ]
  },
  {
   "cell_type": "code",
   "execution_count": 85,
   "id": "2f24abd9-4f2b-47a1-8a9c-e68b62d48348",
   "metadata": {},
   "outputs": [
    {
     "data": {
      "text/plain": [
       "3"
      ]
     },
     "execution_count": 85,
     "metadata": {},
     "output_type": "execute_result"
    }
   ],
   "source": [
    "name = \"Oluwasegun Odunayo\"\n",
    "name.upper().count('O')"
   ]
  },
  {
   "cell_type": "code",
   "execution_count": 86,
   "id": "5a519599-7432-463c-a092-0a0950fc3f54",
   "metadata": {},
   "outputs": [
    {
     "data": {
      "text/plain": [
       "'Abule Egba'"
      ]
     },
     "execution_count": 86,
     "metadata": {},
     "output_type": "execute_result"
    }
   ],
   "source": [
    "place = \"Abulu Egba\"\n",
    "place.replace(\"lu\",\"le\")"
   ]
  },
  {
   "cell_type": "code",
   "execution_count": 87,
   "id": "834e0955-c819-48d6-a20a-a0ca37f3970b",
   "metadata": {},
   "outputs": [
    {
     "name": "stdout",
     "output_type": "stream",
     "text": [
      "I'm learning Python and it is fun are we not beautiful? Debby is the only lady in this clas\n",
      "I'm learning Python and it is fun\n"
     ]
    }
   ],
   "source": [
    "message_1 = \"I'm learning Python\"\n",
    "message_2 = \"and it is fun\";\n",
    "full_message = message_1+\" \"+message_2+\" are we not beautiful?\"+\" Debby is the only lady in this clas\"\n",
    "print(full_message)\n",
    "print(message_1,message_2)"
   ]
  },
  {
   "cell_type": "code",
   "execution_count": 88,
   "id": "af8ffa50-ad8c-4c9c-b4b7-880d118c6788",
   "metadata": {},
   "outputs": [
    {
     "name": "stdout",
     "output_type": "stream",
     "text": [
      "I am enjoying this class at Metro Hub\n"
     ]
    }
   ],
   "source": [
    "school = \"Metro Hub\"\n",
    "print(f'I am enjoying this class at {school}')"
   ]
  },
  {
   "cell_type": "code",
   "execution_count": 89,
   "id": "4488ada9-cdb3-41b7-aacc-38a65f5b5278",
   "metadata": {},
   "outputs": [
    {
     "name": "stdout",
     "output_type": "stream",
     "text": [
      "I'm learning Python\n"
     ]
    }
   ],
   "source": [
    "test = f\"{message_1}\"\n",
    "print(test)"
   ]
  },
  {
   "cell_type": "code",
   "execution_count": 90,
   "id": "88e58df1-0e80-41ad-948f-14915232cd8a",
   "metadata": {},
   "outputs": [
    {
     "data": {
      "text/plain": [
       "'gramm'"
      ]
     },
     "execution_count": 90,
     "metadata": {},
     "output_type": "execute_result"
    }
   ],
   "source": [
    "word = \"Programming\"\n",
    "word[3:8]"
   ]
  },
  {
   "cell_type": "code",
   "execution_count": 91,
   "id": "2bcaf23d-e5d6-4868-8cb9-fea4dc0288c9",
   "metadata": {},
   "outputs": [
    {
     "name": "stdout",
     "output_type": "stream",
     "text": [
      "13\n"
     ]
    }
   ],
   "source": [
    "my_string = \"Hello, World!\"\n",
    "length = len(my_string)\n",
    "print(length)  # Output: 13"
   ]
  },
  {
   "cell_type": "markdown",
   "id": "8c6294de-f924-4972-a367-32968372de8c",
   "metadata": {},
   "source": [
    "# String Splitting"
   ]
  },
  {
   "cell_type": "code",
   "execution_count": 92,
   "id": "8c1f7b51-14ed-492f-b148-a4944121ab0f",
   "metadata": {},
   "outputs": [
    {
     "name": "stdout",
     "output_type": "stream",
     "text": [
      "['Learn', 'Python', 'programming']\n"
     ]
    }
   ],
   "source": [
    "sentence = \"Learn Python programming\"\n",
    "words = sentence.split()  # [\"Learn\", \"Python\", \"programming\"]\n",
    "print(words)"
   ]
  },
  {
   "cell_type": "code",
   "execution_count": 93,
   "id": "ae418e0d-c1ab-4f3d-b882-9156f526ea70",
   "metadata": {},
   "outputs": [
    {
     "name": "stdout",
     "output_type": "stream",
     "text": [
      "['Learn ', ' programming']\n"
     ]
    }
   ],
   "source": [
    "sentence = \"Learn Python programming\"\n",
    "words = sentence.split(\"Python\")  # [\"Learn\", \"Python\", \"programming\"]\n",
    "print(words)"
   ]
  },
  {
   "cell_type": "markdown",
   "id": "535af705-f854-43b1-9579-e6b2efc4d6ef",
   "metadata": {},
   "source": [
    "## Joining Strings"
   ]
  },
  {
   "cell_type": "code",
   "execution_count": 94,
   "id": "cb833a39-9944-404b-867f-ca9e8aed6f7e",
   "metadata": {},
   "outputs": [
    {
     "name": "stdout",
     "output_type": "stream",
     "text": [
      "Python is fun\n"
     ]
    }
   ],
   "source": [
    "words = [\"Python\", \"is\", \"fun\"]\n",
    "sentence = \" \".join(words)\n",
    "print(sentence)  # Output: \"Python is fun\""
   ]
  },
  {
   "cell_type": "markdown",
   "id": "82065df6-8d55-4db2-8da8-3c7b8f0904a5",
   "metadata": {},
   "source": [
    "# Find Function"
   ]
  },
  {
   "cell_type": "code",
   "execution_count": 95,
   "id": "9535860e-9826-4968-b101-ee5f119d674b",
   "metadata": {},
   "outputs": [
    {
     "name": "stdout",
     "output_type": "stream",
     "text": [
      "7\n"
     ]
    }
   ],
   "source": [
    "sentence = \"I love Python programming\"\n",
    "index = sentence.find(\"Python\")\n",
    "print(index)  # Output: 7"
   ]
  },
  {
   "cell_type": "markdown",
   "id": "c84bc2eb-8abf-40d3-bc0c-4a63c54f9e13",
   "metadata": {},
   "source": [
    "# String Slicing"
   ]
  },
  {
   "cell_type": "code",
   "execution_count": 96,
   "id": "8b689cd4-b154-48a0-9d53-b7274653d587",
   "metadata": {},
   "outputs": [
    {
     "name": "stdout",
     "output_type": "stream",
     "text": [
      "Python\n",
      "!dlroW ,olleH\n"
     ]
    }
   ],
   "source": [
    "#Basic slicing\n",
    "my_string = \"Python Programming\"\n",
    "sliced = my_string[0:6]  # Extracts characters from index 0 to 5\n",
    "print(sliced)  # Output: \"Python\"\n",
    "\n",
    "#reversing a string\n",
    "my_string = \"Hello, World!\"\n",
    "reversed_string = my_string[::-1]  # Reverses the string\n",
    "print(reversed_string)  # Output: \"!dlroW ,olleH\""
   ]
  },
  {
   "cell_type": "markdown",
   "id": "4f842f40-a50c-4954-bf8a-5a59f4a16cf1",
   "metadata": {},
   "source": [
    "# String Indexing"
   ]
  },
  {
   "cell_type": "code",
   "execution_count": 97,
   "id": "5f9a286b-74da-4dff-901a-800fdb0d2877",
   "metadata": {},
   "outputs": [
    {
     "name": "stdout",
     "output_type": "stream",
     "text": [
      "H\n",
      "!\n"
     ]
    }
   ],
   "source": [
    "#Positive Indexing\n",
    "my_string = \"Hello, World!\"\n",
    "first_character = my_string[0]  # Accesses the first character\n",
    "print(first_character)  # Output: \"H\"\n",
    "\n",
    "#Negative Indexing\n",
    "my_string = \"Hello, World!\"\n",
    "last_character = my_string[-1]  # Accesses the last character\n",
    "print(last_character)  # Output: \"!\""
   ]
  },
  {
   "cell_type": "code",
   "execution_count": 98,
   "id": "10b73ea6-d40c-450d-8a48-c8b84cf66b37",
   "metadata": {},
   "outputs": [
    {
     "name": "stdout",
     "output_type": "stream",
     "text": [
      "She says \"Hello\"\n"
     ]
    }
   ],
   "source": [
    "print(\"She says \\\"Hello\\\"\")"
   ]
  },
  {
   "cell_type": "markdown",
   "id": "c00c14fc-2a30-4a66-ab31-7635dc121a4c",
   "metadata": {},
   "source": [
    "# Escape Characters"
   ]
  },
  {
   "cell_type": "code",
   "execution_count": 99,
   "id": "cca1085f-dde3-46e4-920b-1da393be8255",
   "metadata": {},
   "outputs": [
    {
     "name": "stdout",
     "output_type": "stream",
     "text": [
      "She said, \"Hello!\"\n",
      "Hello, World!\n",
      "Welcome to Python.\n",
      "Hello, World!\tWelcome to Python.\n"
     ]
    }
   ],
   "source": [
    "#Include Quotes\n",
    "my_string = \"She said, \\\"Hello!\\\"\"\n",
    "print(my_string)  # Output: She said, \"Hello!\"\n",
    "\n",
    "#Include Newline Character\n",
    "my_string = \"Hello, World!\\nWelcome to Python.\"\n",
    "print(my_string)  \n",
    "# Output: \n",
    "# Hello, World!\n",
    "# Welcome to Python.\n",
    "\n",
    "#Include Tab Space\n",
    "my_string = \"Hello, World!\\tWelcome to Python.\"\n",
    "print(my_string)  \n",
    "# Output: \n",
    "# Hello, World!    Welcome to Python.\n"
   ]
  },
  {
   "cell_type": "markdown",
   "id": "0efdcbf5-3e71-4773-b26d-307c9087c894",
   "metadata": {},
   "source": [
    "# In operator"
   ]
  },
  {
   "cell_type": "code",
   "execution_count": 100,
   "id": "34b01b27-cc86-41b0-b6e5-6cfd86dc9b9a",
   "metadata": {},
   "outputs": [
    {
     "name": "stdout",
     "output_type": "stream",
     "text": [
      "True\n",
      "False\n"
     ]
    }
   ],
   "source": [
    "my_string = \"I love programming in Python.\"\n",
    "is_present = \"Python\" in my_string\n",
    "print(is_present)  # Output: True\n",
    "\n",
    "my_string = \"Hello, World!\"\n",
    "is_present = \"hello\" in my_string\n",
    "print(is_present)  # Output: False\n"
   ]
  },
  {
   "cell_type": "code",
   "execution_count": 101,
   "id": "5091dece-ddfd-4236-beaf-aa20ed8c1ec8",
   "metadata": {},
   "outputs": [
    {
     "name": "stdout",
     "output_type": "stream",
     "text": [
      "United States India China Brazil\n"
     ]
    }
   ],
   "source": [
    "countries = ['United States','India','China','Brazil']\n",
    "print(*countries)"
   ]
  },
  {
   "cell_type": "code",
   "execution_count": 102,
   "id": "cf15c38e-78d7-4e2d-a639-0143d3bb6e6e",
   "metadata": {},
   "outputs": [
    {
     "data": {
      "text/plain": [
       "['United States', 'India', 'China', 'Brazil']"
      ]
     },
     "execution_count": 102,
     "metadata": {},
     "output_type": "execute_result"
    }
   ],
   "source": [
    "countries"
   ]
  },
  {
   "cell_type": "code",
   "execution_count": 103,
   "id": "bf64c5ba-7031-4453-818c-36d13b2e66c7",
   "metadata": {},
   "outputs": [],
   "source": [
    "countries.clear()"
   ]
  },
  {
   "cell_type": "code",
   "execution_count": 104,
   "id": "edacf5f3-108e-4174-aa12-409c82837cc3",
   "metadata": {},
   "outputs": [
    {
     "data": {
      "text/plain": [
       "[]"
      ]
     },
     "execution_count": 104,
     "metadata": {},
     "output_type": "execute_result"
    }
   ],
   "source": [
    "countries"
   ]
  },
  {
   "cell_type": "code",
   "execution_count": 105,
   "id": "eb2434cb-7c75-4f5f-88d4-d8d028010fa6",
   "metadata": {},
   "outputs": [
    {
     "name": "stdout",
     "output_type": "stream",
     "text": [
      "  *  \n",
      "  *  \n",
      "*****\n",
      "  *  \n",
      "  *  \n"
     ]
    }
   ],
   "source": [
    "print(\"  *  \")\n",
    "print(\"  *  \")\n",
    "print(\"*****\")\n",
    "print(\"  *  \")\n",
    "print(\"  *  \")"
   ]
  },
  {
   "cell_type": "code",
   "execution_count": 106,
   "id": "bfd0031e-88f8-45de-a11b-522b28939573",
   "metadata": {},
   "outputs": [
    {
     "name": "stdout",
     "output_type": "stream",
     "text": [
      "  ***  \n",
      " *   * \n",
      "*     *\n",
      " *   * \n",
      "  ***  \n"
     ]
    }
   ],
   "source": [
    "# Stylized letter O\n",
    "print(\"  ***  \")\n",
    "print(\" *   * \")\n",
    "print(\"*     *\")\n",
    "print(\" *   * \")\n",
    "print(\"  ***  \")"
   ]
  },
  {
   "cell_type": "code",
   "execution_count": null,
   "id": "c0eee114-0ca7-47df-8de9-ee914ed69afe",
   "metadata": {},
   "outputs": [],
   "source": []
  },
  {
   "cell_type": "code",
   "execution_count": 107,
   "id": "a78457c1-b4f0-41d7-b747-9e4c64139bf9",
   "metadata": {},
   "outputs": [
    {
     "name": "stdout",
     "output_type": "stream",
     "text": [
      "   ***     ***   \n",
      " *******   ******* \n",
      "********* *********\n",
      "*******************\n",
      " ***************** \n",
      "  **************** \n",
      "   *************** \n",
      "     *************  \n",
      "       *********    \n",
      "         *****      \n",
      "          ***       \n",
      "           *        \n"
     ]
    }
   ],
   "source": [
    "print(\"   ***     ***   \")\n",
    "print(\" *******   ******* \")\n",
    "print(\"********* *********\")\n",
    "print(\"*******************\")\n",
    "print(\" ***************** \")\n",
    "print(\"  **************** \")\n",
    "print(\"   *************** \")\n",
    "print(\"     *************  \")\n",
    "print(\"       *********    \")\n",
    "print(\"         *****      \")\n",
    "print(\"          ***       \")\n",
    "print(\"           *        \")\n"
   ]
  },
  {
   "cell_type": "code",
   "execution_count": 108,
   "id": "affdb448-9e32-4180-8831-3519f3aa6f47",
   "metadata": {},
   "outputs": [
    {
     "data": {
      "text/plain": [
       "'12'"
      ]
     },
     "execution_count": 108,
     "metadata": {},
     "output_type": "execute_result"
    }
   ],
   "source": [
    "name = 12\n",
    "str(name)"
   ]
  },
  {
   "cell_type": "code",
   "execution_count": 109,
   "id": "8463861b-25f2-49d4-bc3b-4be346c26e67",
   "metadata": {},
   "outputs": [
    {
     "name": "stdout",
     "output_type": "stream",
     "text": [
      "\t*\n",
      "\t*\n",
      "\t*\n",
      "\t*\n",
      "\t*\n",
      "\t*\n",
      "\t**************\n"
     ]
    }
   ],
   "source": [
    "print(\"\\t*\")\n",
    "print(\"\\t*\")\n",
    "print(\"\\t*\")\n",
    "print(\"\\t*\")\n",
    "print(\"\\t*\")\n",
    "print(\"\\t*\")\n",
    "print(\"\\t**************\")"
   ]
  },
  {
   "cell_type": "code",
   "execution_count": 110,
   "id": "f94cd059-bdfd-42d3-8c52-1d51ea798ebb",
   "metadata": {},
   "outputs": [
    {
     "name": "stdout",
     "output_type": "stream",
     "text": [
      "   ****     \n",
      "  *     *\n",
      " *       *\n",
      "*         *\n",
      "*         *\n",
      "*         *\n",
      " *      *\n",
      "   ****\n"
     ]
    }
   ],
   "source": [
    "#I am printing Letter O. Just testing my understanding of the concepts so far\n",
    "print(\"   ****     \")\n",
    "print(\"  *     *\")\n",
    "print(\" *       *\")\n",
    "print(\"*         *\")\n",
    "print(\"*         *\")\n",
    "print(\"*         *\")\n",
    "print(\" *      *\")\n",
    "print(\"   ****\")"
   ]
  },
  {
   "cell_type": "code",
   "execution_count": 112,
   "id": "4cc6e71a-49a6-4a20-b980-e7af907e66a2",
   "metadata": {
    "scrolled": true
   },
   "outputs": [
    {
     "name": "stdin",
     "output_type": "stream",
     "text": [
      "Enter the start year:  2023\n",
      "Enter the end year:  2024\n"
     ]
    },
    {
     "name": "stdout",
     "output_type": "stream",
     "text": [
      "Leap years between 2023 and 2024:\n",
      "2024\n"
     ]
    }
   ],
   "source": [
    "# Function to check if a year is a leap year\n",
    "def is_leap_year(year):\n",
    "    if (year % 4 == 0 and year % 100 != 0) or (year % 400 == 0):\n",
    "        return True\n",
    "    return False\n",
    "\n",
    "# Get user input for the range of years\n",
    "start_year = int(input(\"Enter the start year: \"))\n",
    "end_year = int(input(\"Enter the end year: \"))\n",
    "\n",
    "# Loop through the range and print leap years\n",
    "print(f\"Leap years between {start_year} and {end_year}:\")\n",
    "for year in range(start_year, end_year + 1):\n",
    "    if is_leap_year(year):\n",
    "        print(year)\n"
   ]
  },
  {
   "cell_type": "markdown",
   "id": "a71bf73b-cb6d-4617-95c7-e354c5c52edf",
   "metadata": {},
   "source": [
    "# Creating a Tuple"
   ]
  },
  {
   "cell_type": "code",
   "execution_count": 113,
   "id": "9989b31d-0772-434a-a7dc-82bda3dfdfd1",
   "metadata": {},
   "outputs": [],
   "source": [
    "# Creating a tuple with integers\n",
    "numbers = (1, 2, 3, 4)\n",
    "\n",
    "# Creating a tuple with mixed data types\n",
    "person = (\"Alice\", 30, \"Engineer\")\n",
    "\n",
    "# Creating an empty tuple\n",
    "empty_tuple = ()\n"
   ]
  },
  {
   "cell_type": "markdown",
   "id": "ca9292cc-020b-47a4-946d-92c6224e9b56",
   "metadata": {},
   "source": [
    "# Accessing Elements in a Tuple"
   ]
  },
  {
   "cell_type": "code",
   "execution_count": 114,
   "id": "6ec9abe8-1cad-451b-b628-e702c410911c",
   "metadata": {},
   "outputs": [
    {
     "name": "stdout",
     "output_type": "stream",
     "text": [
      "apple\n",
      "banana\n",
      "cherry\n"
     ]
    }
   ],
   "source": [
    "# Accessing elements by index\n",
    "fruits = (\"apple\", \"banana\", \"cherry\")\n",
    "print(fruits[0])  # Output: apple\n",
    "print(fruits[1])  # Output: banana\n",
    "\n",
    "# Accessing the last element with negative indexing\n",
    "print(fruits[-1])  # Output: cherry"
   ]
  },
  {
   "cell_type": "markdown",
   "id": "9192bc8c-596c-4245-830f-0623bfd11b5c",
   "metadata": {},
   "source": [
    "# Tuple Slicing"
   ]
  },
  {
   "cell_type": "code",
   "execution_count": 115,
   "id": "ea1d4021-77a3-4ea9-bbf2-ef01c7ddf534",
   "metadata": {},
   "outputs": [
    {
     "name": "stdout",
     "output_type": "stream",
     "text": [
      "(20, 30, 40)\n",
      "(10, 30, 50)\n"
     ]
    }
   ],
   "source": [
    "# Slicing a tuple\n",
    "numbers = (10, 20, 30, 40, 50)\n",
    "slice_numbers = numbers[1:4]  # Extracts elements from index 1 to 3\n",
    "print(slice_numbers)  # Output: (20, 30, 40)\n",
    "\n",
    "# Slicing with a step\n",
    "step_slice = numbers[::2]  # Extracts every second element\n",
    "print(step_slice)  # Output: (10, 30, 50)"
   ]
  },
  {
   "cell_type": "code",
   "execution_count": null,
   "id": "576dee1f-98c5-4762-8f20-0f0057cd1941",
   "metadata": {},
   "outputs": [],
   "source": []
  },
  {
   "cell_type": "code",
   "execution_count": 116,
   "id": "0feaed88-2340-4cd2-9b4f-c7e4b1001658",
   "metadata": {},
   "outputs": [
    {
     "name": "stdout",
     "output_type": "stream",
     "text": [
      "John\n",
      "25\n",
      "Male\n"
     ]
    }
   ],
   "source": [
    "# Tuple unpacking\n",
    "person = (\"John\", 25, \"Male\")\n",
    "name, age, gender = person\n",
    "\n",
    "print(name)   # Output: John\n",
    "print(age)    # Output: 25\n",
    "print(gender) # Output: Male\n"
   ]
  },
  {
   "cell_type": "code",
   "execution_count": 117,
   "id": "0efce1e8-8ce4-4a7b-93c1-869406523466",
   "metadata": {},
   "outputs": [
    {
     "name": "stdout",
     "output_type": "stream",
     "text": [
      "(2, 3)\n",
      "5\n"
     ]
    }
   ],
   "source": [
    "# Nested tuple\n",
    "nested_tuple = (1, (2, 3), (4, 5, 6))\n",
    "\n",
    "# Accessing elements in a nested tuple\n",
    "print(nested_tuple[1])    # Output: (2, 3)\n",
    "print(nested_tuple[2][1]) # Output: 5\n"
   ]
  },
  {
   "cell_type": "code",
   "execution_count": null,
   "id": "df3edfd3-89f7-4db1-ad2d-f5d6d7b514c3",
   "metadata": {},
   "outputs": [],
   "source": []
  },
  {
   "cell_type": "code",
   "execution_count": 118,
   "id": "263eddbc-4f41-4f50-8e51-e909cfdc6a87",
   "metadata": {},
   "outputs": [
    {
     "name": "stdout",
     "output_type": "stream",
     "text": [
      "3\n",
      "2\n"
     ]
    }
   ],
   "source": [
    "# Tuple methods\n",
    "numbers = (1, 2, 3, 2, 4, 2)\n",
    "\n",
    "# Count occurrences of 2\n",
    "print(numbers.count(2))  # Output: 3\n",
    "\n",
    "# Find the index of the first occurrence of 3\n",
    "print(numbers.index(3))  # Output: 2\n"
   ]
  },
  {
   "cell_type": "code",
   "execution_count": 119,
   "id": "77e651fb-76fa-43d6-bf9b-e7431a7e6208",
   "metadata": {},
   "outputs": [
    {
     "name": "stdout",
     "output_type": "stream",
     "text": [
      "(10, 25, 30)\n"
     ]
    }
   ],
   "source": [
    "# Modifying a tuple (indirectly)\n",
    "my_tuple = (10, 20, 30)\n",
    "my_list = list(my_tuple)  # Convert tuple to list\n",
    "my_list[1] = 25           # Modify the list\n",
    "my_tuple = tuple(my_list)  # Convert back to tuple\n",
    "\n",
    "print(my_tuple)  # Output: (10, 25, 30)\n"
   ]
  },
  {
   "cell_type": "code",
   "execution_count": 120,
   "id": "ecf94b3c-83a5-4938-b881-75082db3473e",
   "metadata": {},
   "outputs": [
    {
     "ename": "IndentationError",
     "evalue": "expected an indented block after 'if' statement on line 1 (2323292552.py, line 3)",
     "output_type": "error",
     "traceback": [
      "\u001b[0;36m  Cell \u001b[0;32mIn[120], line 3\u001b[0;36m\u001b[0m\n\u001b[0;31m    elif another_condition:\u001b[0m\n\u001b[0m    ^\u001b[0m\n\u001b[0;31mIndentationError\u001b[0m\u001b[0;31m:\u001b[0m expected an indented block after 'if' statement on line 1\n"
     ]
    }
   ],
   "source": [
    "if condition:\n",
    "    # Code block for if\n",
    "elif another_condition:\n",
    "    # Code block for elif\n",
    "else:\n",
    "    # Code block for else\n"
   ]
  },
  {
   "cell_type": "code",
   "execution_count": 121,
   "id": "079f274c-2cce-44a7-bb50-7b3797b1885c",
   "metadata": {},
   "outputs": [
    {
     "name": "stdout",
     "output_type": "stream",
     "text": [
      "You just became an adult!\n"
     ]
    }
   ],
   "source": [
    "age = 18\n",
    "\n",
    "if age < 18:\n",
    "    print(\"You are a minor.\")\n",
    "elif age == 18:\n",
    "    print(\"You just became an adult!\")\n",
    "else:\n",
    "    print(\"You are an adult.\")\n"
   ]
  },
  {
   "cell_type": "code",
   "execution_count": 122,
   "id": "dd208f53-32c4-4d17-94f6-e9f57211a579",
   "metadata": {},
   "outputs": [
    {
     "name": "stdout",
     "output_type": "stream",
     "text": [
      "You are allowed to vote.\n"
     ]
    }
   ],
   "source": [
    "age = 20\n",
    "has_id = True\n",
    "\n",
    "if age >= 18:\n",
    "    if has_id:\n",
    "        print(\"You are allowed to vote.\")\n",
    "    else:\n",
    "        print(\"Please provide an ID to vote.\")\n",
    "else:\n",
    "    print(\"You are too young to vote.\")\n"
   ]
  },
  {
   "cell_type": "code",
   "execution_count": 123,
   "id": "1b4a598e-3065-4745-88da-b54e1eabb9ce",
   "metadata": {},
   "outputs": [
    {
     "name": "stdout",
     "output_type": "stream",
     "text": [
      "timothy"
     ]
    }
   ],
   "source": [
    "for letter in \"timothy\":\n",
    "    print(letter,end=\"\")"
   ]
  },
  {
   "cell_type": "code",
   "execution_count": 124,
   "id": "21f3a736-5075-45cf-b654-5b224681fe59",
   "metadata": {},
   "outputs": [
    {
     "name": "stdout",
     "output_type": "stream",
     "text": [
      "apple\n",
      "banana\n",
      "cherry\n"
     ]
    }
   ],
   "source": [
    "fruits = [\"apple\", \"banana\", \"cherry\"]\n",
    "\n",
    "for fruit in fruits:\n",
    "    print(fruit)\n"
   ]
  },
  {
   "cell_type": "code",
   "execution_count": 125,
   "id": "17d07345-00df-488c-9db9-ec943ad2f2f8",
   "metadata": {},
   "outputs": [
    {
     "name": "stdout",
     "output_type": "stream",
     "text": [
      "Count: 1\n",
      "Count: 2\n",
      "Count: 3\n",
      "Count: 4\n",
      "Count: 5\n"
     ]
    }
   ],
   "source": [
    "counter = 1\n",
    "\n",
    "while counter <= 5:\n",
    "    print(\"Count:\", counter)\n",
    "    counter += 1"
   ]
  },
  {
   "cell_type": "code",
   "execution_count": 126,
   "id": "1099e6f0-c298-4cb1-9df0-066ae2e96e26",
   "metadata": {},
   "outputs": [
    {
     "name": "stdout",
     "output_type": "stream",
     "text": [
      "djdj\n"
     ]
    }
   ],
   "source": [
    "print(\"djdj\")"
   ]
  },
  {
   "cell_type": "code",
   "execution_count": 127,
   "id": "505121b9-0b93-41ca-8777-ab9b7d2fafc7",
   "metadata": {},
   "outputs": [
    {
     "name": "stdout",
     "output_type": "stream",
     "text": [
      "1\n",
      "2\n",
      "3\n",
      "4\n"
     ]
    }
   ],
   "source": [
    "for num in range(1, 10):\n",
    "    if num == 5:\n",
    "        break\n",
    "    print(num)\n"
   ]
  },
  {
   "cell_type": "code",
   "execution_count": 128,
   "id": "1b0cc43d-161c-481e-9576-db43b9fc6ace",
   "metadata": {},
   "outputs": [
    {
     "name": "stdout",
     "output_type": "stream",
     "text": [
      "1\n",
      "2\n",
      "4\n",
      "5\n"
     ]
    }
   ],
   "source": [
    "for num in range(1, 6):\n",
    "    if num == 3:\n",
    "        continue\n",
    "    print(num)\n"
   ]
  },
  {
   "cell_type": "code",
   "execution_count": 129,
   "id": "4d2cbc45-9281-4c20-9a5c-d278d587e3db",
   "metadata": {},
   "outputs": [
    {
     "name": "stdout",
     "output_type": "stream",
     "text": [
      "1\n",
      "2\n",
      "4\n",
      "5\n"
     ]
    }
   ],
   "source": [
    "for num in range(1, 6):\n",
    "    if num == 3:\n",
    "        pass  # Placeholder, no action taken\n",
    "    else:\n",
    "        print(num)\n"
   ]
  },
  {
   "cell_type": "code",
   "execution_count": 156,
   "id": "a55c1c84-6604-4e6f-9107-d0b2f92c0e82",
   "metadata": {},
   "outputs": [
    {
     "name": "stdout",
     "output_type": "stream",
     "text": [
      "a\n"
     ]
    }
   ],
   "source": [
    "our_name = \"Babajide Tanimomo\"\n",
    "sliced_bread = our_name[1:2:1]\n",
    "print(sliced_bread)"
   ]
  },
  {
   "cell_type": "code",
   "execution_count": 175,
   "id": "e7308637-e360-4405-a1d5-12f20c90498d",
   "metadata": {},
   "outputs": [
    {
     "name": "stdout",
     "output_type": "stream",
     "text": [
      "airegin\n"
     ]
    }
   ],
   "source": [
    "my_name = \"nigeria\"\n",
    "first_four = my_name[::-1]\n",
    "print(first_four)"
   ]
  },
  {
   "cell_type": "code",
   "execution_count": 148,
   "id": "208cf689-b1e8-4265-8d20-b02dbd73c689",
   "metadata": {},
   "outputs": [
    {
     "name": "stdout",
     "output_type": "stream",
     "text": [
      "\"Hello\"\n",
      "Hello\n",
      "\tHello\n",
      "My name is John DOe. I live in Gwagwalada. I belong to the Tinubu Family.\n",
      "We are buying the next Unicorn in Africa\n"
     ]
    }
   ],
   "source": [
    "print(\"\\\"Hello\\\"\")\n",
    "print(\"Hello\")\n",
    "print(\"\\tHello\")\n",
    "sentence_with_para = \"My name is John DOe. I live in Gwagwalada. I belong to the Tinubu Family.\\nWe are buying the next Unicorn in Africa\"\n",
    "print(sentence_with_para)"
   ]
  },
  {
   "cell_type": "code",
   "execution_count": null,
   "id": "e7e23528-27d8-43a6-9763-a7436bbb8980",
   "metadata": {},
   "outputs": [],
   "source": [
    "#1. USe a \\t in your string\n",
    "#2. Use a \\\" in your string\n",
    "#3. Use a \\n in your string.\n",
    "#Do it anyway you prefer. The ball is in your court!!!"
   ]
  },
  {
   "cell_type": "code",
   "execution_count": 182,
   "id": "59c3e4ce-9942-4eb6-af94-4009e040b19f",
   "metadata": {},
   "outputs": [
    {
     "name": "stdout",
     "output_type": "stream",
     "text": [
      "True\n"
     ]
    }
   ],
   "source": [
    "my_string = \"I love python programming\"\n",
    "searchWord = \"LOVE\"\n",
    "is_love_in_text = \"ola\" in \"Afolabi\"\n",
    "print(is_love_in_text)"
   ]
  },
  {
   "cell_type": "code",
   "execution_count": 224,
   "id": "273f4b5b-eaf2-42c8-9414-a80a11d5c151",
   "metadata": {},
   "outputs": [
    {
     "name": "stdout",
     "output_type": "stream",
     "text": [
      "Number of students in class: 10\n",
      "Number of states in SW: 6\n"
     ]
    },
    {
     "data": {
      "text/plain": [
       "'Mosak'"
      ]
     },
     "execution_count": 224,
     "metadata": {},
     "output_type": "execute_result"
    }
   ],
   "source": [
    "student_names = [\"Akinwale\",\"Feyi\",\"Biyi\",\"Adepoju\",\"Tolu\",\"Israel\",\"Godwin\",\"Badru\",\"Mosak\",\"Ola\"]\n",
    "south_west_states = [\"Ogun\",\"Oyo\",\"Osun\",\"Ekiti\",\"Ondo\",\"Lagos\"]\n",
    "print(\"Number of students in class: \"+str(len(student_names)))\n",
    "print(\"Number of states in SW: \"+str(len(south_west_states)))\n",
    "student_names[-2]"
   ]
  },
  {
   "cell_type": "code",
   "execution_count": 238,
   "id": "906e6a58-bdd8-4eb2-8f7d-6e63feddc34f",
   "metadata": {},
   "outputs": [
    {
     "name": "stdout",
     "output_type": "stream",
     "text": [
      "['Akinwale', 'Timothy', 'Feyi', 'Biyi', 'Adepoju', 'Tolu', 'Israel', 'Godwin', 'Badru', 'Mosak', 'Ola', 'Tim', 'Ade', 'Julius', 'Julius', 'Julius', 'Julius', 'Julius', 'Julius', 'Julius', 'Julius', 'Julius', 'Julius']\n"
     ]
    },
    {
     "data": {
      "text/plain": [
       "23"
      ]
     },
     "execution_count": 238,
     "metadata": {},
     "output_type": "execute_result"
    }
   ],
   "source": [
    "# student_names.append(\"Julius\")\n",
    "student_names.insert(1,\"Timothy\")\n",
    "print(student_names)\n",
    "len(student_names)"
   ]
  },
  {
   "cell_type": "code",
   "execution_count": 239,
   "id": "5f922a77-210c-4c1d-a8d6-2b1c754d6cf7",
   "metadata": {},
   "outputs": [
    {
     "name": "stdout",
     "output_type": "stream",
     "text": [
      "['a', 'e', 'i', 'o', 'u', 'b', 'c', 'd', 'f']\n"
     ]
    }
   ],
   "source": [
    "vowel = [\"a\",\"e\",\"i\",\"o\",\"u\"]\n",
    "consonant = [\"b\",\"c\",\"d\",\"f\"]\n",
    "vowel_and_consonant = vowel+consonant\n",
    "print(vowel_and_consonant)"
   ]
  },
  {
   "cell_type": "code",
   "execution_count": 244,
   "id": "85f91a65-5f63-48b5-b168-95e3ac3ac1df",
   "metadata": {},
   "outputs": [
    {
     "name": "stdout",
     "output_type": "stream",
     "text": [
      "[['a', 'e', 'i', 'o', 'u'], ['b', 'c', 'd', 'f']]\n",
      "['a', 'e', 'i', 'o', 'u']\n",
      "['b', 'c', 'd', 'f']\n"
     ]
    }
   ],
   "source": [
    "nested_sounds = [vowel,consonant]\n",
    "print(nested_sounds)\n",
    "print(nested_sounds[0])\n",
    "print(nested_sounds[-1])"
   ]
  },
  {
   "cell_type": "code",
   "execution_count": 246,
   "id": "9e70c398-0e5e-4687-8850-5df4375bcec9",
   "metadata": {},
   "outputs": [
    {
     "name": "stdout",
     "output_type": "stream",
     "text": [
      "['e', 'i', 'o']\n"
     ]
    }
   ],
   "source": [
    "vowel.pop(-1)\n",
    "print(vowel)"
   ]
  },
  {
   "cell_type": "code",
   "execution_count": 247,
   "id": "99797e8e-729d-48d4-9778-1f5e05e73909",
   "metadata": {},
   "outputs": [
    {
     "name": "stdout",
     "output_type": "stream",
     "text": [
      "['i', 'o']\n"
     ]
    }
   ],
   "source": [
    "del vowel[0]\n",
    "print(vowel)"
   ]
  },
  {
   "cell_type": "code",
   "execution_count": 259,
   "id": "91688689-d3f4-4c9b-bb0c-310050ee55cc",
   "metadata": {},
   "outputs": [
    {
     "name": "stdout",
     "output_type": "stream",
     "text": [
      "original number [9, 5, 1, 2, 0, 12]\n",
      "sorted number is: [0, 1, 2, 5, 9, 12]\n",
      "sorted number Descending: [12, 9, 5, 2, 1, 0]\n"
     ]
    }
   ],
   "source": [
    "number = [9,5,1,2,0,12]\n",
    "print(\"original number\",number)\n",
    "number.sort()\n",
    "print(\"sorted number is:\",number)\n",
    "number.sort(reverse=True)\n",
    "print(\"sorted number Descending:\",number)"
   ]
  },
  {
   "cell_type": "code",
   "execution_count": 262,
   "id": "22171472-c107-4429-aa8b-91b828de6940",
   "metadata": {},
   "outputs": [
    {
     "name": "stdout",
     "output_type": "stream",
     "text": [
      "sorted letter: ['Ade', 'Ayo', 'Ayodele', 'Bimpe', 'Dami', 'Ojo', 'Titus']\n"
     ]
    }
   ],
   "source": [
    "letters = [\"Ade\",\"Bimpe\",\"Ayodele\",\"Ayo\",\"Ojo\",\"Dami\",\"Titus\"]\n",
    "letters.sort()\n",
    "print(\"sorted letter:\",letters)"
   ]
  },
  {
   "cell_type": "code",
   "execution_count": 267,
   "id": "842f571d-789c-4c51-9081-660f729fd46c",
   "metadata": {},
   "outputs": [
    {
     "name": "stdin",
     "output_type": "stream",
     "text": [
      "Enter your length 10\n",
      "Enter your breadth 10\n"
     ]
    },
    {
     "name": "stdout",
     "output_type": "stream",
     "text": [
      "The area of a rectangle is: 100.0\n"
     ]
    }
   ],
   "source": [
    "#Area of a rectangle is length x breadth\n",
    "len = float(input(\"Enter your length\"))\n",
    "breadth = float(input(\"Enter your breadth\"))\n",
    "Area = len * breadth\n",
    "print(\"The area of a rectangle is:\",Area)\n"
   ]
  },
  {
   "cell_type": "code",
   "execution_count": 270,
   "id": "df10fab5-fcdc-4403-b891-d6514acc9348",
   "metadata": {},
   "outputs": [
    {
     "name": "stdin",
     "output_type": "stream",
     "text": [
      "Enter the value for R 1\n"
     ]
    },
    {
     "name": "stdout",
     "output_type": "stream",
     "text": [
      "Circumference of the cirlce is: 6.283\n"
     ]
    }
   ],
   "source": [
    "#circumference of a circle 2 Pie R\n",
    "pie = 3.1415\n",
    "r = float(input(\"Enter the value for R\"))\n",
    "Circum = 2 * pie * r\n",
    "print(\"Circumference of the cirlce is:\",Circum)\n"
   ]
  },
  {
   "cell_type": "code",
   "execution_count": 271,
   "id": "73fb68bd-8827-4e32-b4f2-ec26f9080a08",
   "metadata": {},
   "outputs": [
    {
     "name": "stdin",
     "output_type": "stream",
     "text": [
      "Enter the length of side a:  10\n",
      "Enter the length of side b:  10\n"
     ]
    },
    {
     "name": "stdout",
     "output_type": "stream",
     "text": [
      "The hypotenuse is: 14.142135623730951\n"
     ]
    }
   ],
   "source": [
    "import math\n",
    "\n",
    "# Input the lengths of the two legs\n",
    "a = float(input(\"Enter the length of side a: \"))\n",
    "b = float(input(\"Enter the length of side b: \"))\n",
    "\n",
    "# Calculate the hypotenuse\n",
    "c = math.sqrt(a**2 + b**2)\n",
    "\n",
    "# Output the result\n",
    "print(\"The hypotenuse is:\", c)\n"
   ]
  },
  {
   "cell_type": "code",
   "execution_count": 1,
   "id": "3491fa9a-47cb-4d16-860a-e3a8a8b10460",
   "metadata": {},
   "outputs": [
    {
     "name": "stdout",
     "output_type": "stream",
     "text": [
      "0\n",
      "1\n",
      "2\n"
     ]
    }
   ],
   "source": [
    "for i in range(5):\n",
    "    if i == 3:\n",
    "        break\n",
    "    print(i)\n",
    "else:\n",
    "    print(\"Loop completed successfully.\")  # This will not execute\n"
   ]
  },
  {
   "cell_type": "code",
   "execution_count": 2,
   "id": "20343497-1d90-430b-a41a-2b12ba909b78",
   "metadata": {},
   "outputs": [
    {
     "name": "stdout",
     "output_type": "stream",
     "text": [
      "0 apple\n",
      "1 banana\n",
      "2 cherry\n"
     ]
    }
   ],
   "source": [
    "fruits = [\"apple\", \"banana\", \"cherry\"]\n",
    "\n",
    "for index, fruit in enumerate(fruits):\n",
    "    print(index, fruit)\n"
   ]
  },
  {
   "cell_type": "code",
   "execution_count": 3,
   "id": "cc0e84df-af01-4911-9a33-6a8f821e8df5",
   "metadata": {},
   "outputs": [
    {
     "name": "stdout",
     "output_type": "stream",
     "text": [
      "1 apple\n",
      "2 banana\n",
      "3 cherry\n"
     ]
    }
   ],
   "source": [
    "fruits = [\"apple\", \"banana\", \"cherry\"]\n",
    "\n",
    "for index, fruit in enumerate(fruits, start=1):\n",
    "    print(index, fruit)\n"
   ]
  },
  {
   "cell_type": "code",
   "execution_count": 7,
   "id": "04bb2dc2-84a8-4b0d-ade5-d972e646685a",
   "metadata": {},
   "outputs": [
    {
     "data": {
      "text/plain": [
       "1"
      ]
     },
     "execution_count": 7,
     "metadata": {},
     "output_type": "execute_result"
    }
   ],
   "source": [
    "5//3"
   ]
  },
  {
   "cell_type": "code",
   "execution_count": 8,
   "id": "adde7783-1360-410f-a6f0-0af6edf41223",
   "metadata": {},
   "outputs": [
    {
     "name": "stdout",
     "output_type": "stream",
     "text": [
      "15\n"
     ]
    }
   ],
   "source": [
    "#Addition\n",
    "x = 10\n",
    "y = 5\n",
    "result = x + y  # 15\n",
    "print(result)\n"
   ]
  },
  {
   "cell_type": "code",
   "execution_count": 9,
   "id": "910185d5-f8f1-49fd-8797-087d47e938f9",
   "metadata": {},
   "outputs": [
    {
     "name": "stdout",
     "output_type": "stream",
     "text": [
      "5\n"
     ]
    }
   ],
   "source": [
    "#Addition\n",
    "x = 10\n",
    "y = 5\n",
    "result = x - y  # 5\n",
    "print(result)\n"
   ]
  },
  {
   "cell_type": "code",
   "execution_count": 10,
   "id": "31664c1a-0640-4bb7-839e-52ec3aa40e90",
   "metadata": {},
   "outputs": [
    {
     "name": "stdout",
     "output_type": "stream",
     "text": [
      "50\n"
     ]
    }
   ],
   "source": [
    "#Multiplication\n",
    "x = 10\n",
    "y = 5\n",
    "result = x * y  # 50\n",
    "print(result)\n"
   ]
  },
  {
   "cell_type": "code",
   "execution_count": 11,
   "id": "f5bd76e8-792e-435a-9423-45e9eac8aa88",
   "metadata": {},
   "outputs": [
    {
     "name": "stdout",
     "output_type": "stream",
     "text": [
      "2.0\n"
     ]
    }
   ],
   "source": [
    "#Division\n",
    "x = 10\n",
    "y = 5\n",
    "result = x / y  # 2.0\n",
    "print(result)\n"
   ]
  },
  {
   "cell_type": "code",
   "execution_count": 12,
   "id": "c02d98f8-1f70-4040-83d2-36c9ccdae444",
   "metadata": {},
   "outputs": [
    {
     "name": "stdout",
     "output_type": "stream",
     "text": [
      "3\n"
     ]
    }
   ],
   "source": [
    "#Floor Division\n",
    "x = 10\n",
    "y = 3\n",
    "result = x // y  # 3\n",
    "print(result)\n"
   ]
  },
  {
   "cell_type": "code",
   "execution_count": 13,
   "id": "bb20aaac-03fc-436e-bdac-d53e4c25769d",
   "metadata": {},
   "outputs": [
    {
     "name": "stdout",
     "output_type": "stream",
     "text": [
      "1\n"
     ]
    }
   ],
   "source": [
    "#Modulus operator\n",
    "x = 10\n",
    "y = 3\n",
    "result = x % y  # 1\n",
    "print(result)\n"
   ]
  },
  {
   "cell_type": "code",
   "execution_count": 14,
   "id": "94bcc64c-9e2c-4ae9-8492-d7a2a81af6ab",
   "metadata": {},
   "outputs": [
    {
     "name": "stdout",
     "output_type": "stream",
     "text": [
      "8\n"
     ]
    }
   ],
   "source": [
    "#Exponentiation\n",
    "x = 2\n",
    "y = 3\n",
    "result = x ** y  # 8 (2 raised to the power of 3)\n",
    "print(result)\n"
   ]
  },
  {
   "cell_type": "code",
   "execution_count": 15,
   "id": "bb803561-9c36-4105-aa5c-c02aa0d36f55",
   "metadata": {},
   "outputs": [
    {
     "name": "stdout",
     "output_type": "stream",
     "text": [
      "15\n"
     ]
    }
   ],
   "source": [
    "x = 10\n",
    "x += 5  # Equivalent to: x = x + 5\n",
    "print(x)  # Output: 15\n"
   ]
  },
  {
   "cell_type": "code",
   "execution_count": 16,
   "id": "1f49b65b-5fd6-4d17-a9b2-dc01f1b3df10",
   "metadata": {},
   "outputs": [
    {
     "name": "stdout",
     "output_type": "stream",
     "text": [
      "51\n"
     ]
    }
   ],
   "source": [
    "result = 3 + 2 * 5 ** 2 - 8 // 4\n",
    "# PEMDAS order:\n",
    "# 5 ** 2 = 25\n",
    "# 2 * 25 = 50\n",
    "# 8 // 4 = 2\n",
    "# 3 + 50 - 2 = 51\n",
    "print(result)  # Output: 51\n"
   ]
  },
  {
   "cell_type": "code",
   "execution_count": 17,
   "id": "3bfa1eac-9a16-49ac-8d99-0f532cf4992d",
   "metadata": {},
   "outputs": [
    {
     "name": "stdout",
     "output_type": "stream",
     "text": [
      "5.0\n"
     ]
    }
   ],
   "source": [
    "import math\n",
    "result = math.sqrt(25)  # 5.0\n",
    "print(result)\n"
   ]
  },
  {
   "cell_type": "code",
   "execution_count": 19,
   "id": "40577c4f-6847-4856-8f29-209e255181f2",
   "metadata": {},
   "outputs": [
    {
     "name": "stdout",
     "output_type": "stream",
     "text": [
      "8.0\n"
     ]
    }
   ],
   "source": [
    "result = math.pow(2, 3)  # 8.0 (same as 2**3)\n",
    "print(result)\n"
   ]
  },
  {
   "cell_type": "code",
   "execution_count": 20,
   "id": "8386e355-0e57-4341-973d-7f8936f180d6",
   "metadata": {},
   "outputs": [
    {
     "name": "stdout",
     "output_type": "stream",
     "text": [
      "5\n"
     ]
    }
   ],
   "source": [
    "result = math.ceil(4.3)  # 5\n",
    "print(result)"
   ]
  },
  {
   "cell_type": "code",
   "execution_count": 21,
   "id": "98d5c6fe-392c-49fa-b08e-8353be31e769",
   "metadata": {},
   "outputs": [
    {
     "name": "stdout",
     "output_type": "stream",
     "text": [
      "4\n"
     ]
    }
   ],
   "source": [
    "result = math.floor(4.7)  # 4\n",
    "print(result)"
   ]
  },
  {
   "cell_type": "code",
   "execution_count": 22,
   "id": "97d6fe96-bdd5-4567-9b5d-51c4de7fd446",
   "metadata": {},
   "outputs": [
    {
     "name": "stdout",
     "output_type": "stream",
     "text": [
      "7\n"
     ]
    }
   ],
   "source": [
    "result = abs(-7)  # 7\n",
    "print(result)"
   ]
  },
  {
   "cell_type": "code",
   "execution_count": 23,
   "id": "3b7008b0-9950-4818-840d-7016d8c229e8",
   "metadata": {},
   "outputs": [
    {
     "name": "stdout",
     "output_type": "stream",
     "text": [
      "120\n"
     ]
    }
   ],
   "source": [
    "result = math.factorial(5)  # 120 (5 * 4 * 3 * 2 * 1)\n",
    "print(result)"
   ]
  },
  {
   "cell_type": "code",
   "execution_count": 24,
   "id": "a5a03b1e-0135-4908-8dcd-ada0e8217a77",
   "metadata": {},
   "outputs": [
    {
     "name": "stdout",
     "output_type": "stream",
     "text": [
      "8\n",
      "0.5647106457843298\n"
     ]
    }
   ],
   "source": [
    "import random\n",
    "\n",
    "# Generate a random integer between 1 and 10\n",
    "rand_num = random.randint(1, 10)\n",
    "print(rand_num)\n",
    "\n",
    "# Generate a random floating-point number between 0 and 1\n",
    "rand_float = random.random()\n",
    "print(rand_float)\n"
   ]
  },
  {
   "cell_type": "code",
   "execution_count": 25,
   "id": "940d085b-571a-4a10-92fe-fe83986e30f9",
   "metadata": {},
   "outputs": [
    {
     "name": "stdout",
     "output_type": "stream",
     "text": [
      "Timer started\n",
      "5 seconds later...\n"
     ]
    }
   ],
   "source": [
    "import time\n",
    "\n",
    "print(\"Timer started\")\n",
    "time.sleep(5)  # Pause the program for 5 seconds\n",
    "print(\"5 seconds later...\")\n"
   ]
  },
  {
   "cell_type": "code",
   "execution_count": 30,
   "id": "bc4b5ea7-3665-41a1-8c08-ecc2be249f73",
   "metadata": {},
   "outputs": [
    {
     "name": "stdout",
     "output_type": "stream",
     "text": [
      "Elapsed time: 7.0053770542144775 seconds\n"
     ]
    }
   ],
   "source": [
    "import time\n",
    "\n",
    "start_time = time.time()\n",
    "\n",
    "# Simulate a task\n",
    "time.sleep(7)\n",
    "\n",
    "end_time = time.time()\n",
    "elapsed_time = end_time - start_time\n",
    "print(f\"Elapsed time: {elapsed_time} seconds\")\n"
   ]
  },
  {
   "cell_type": "code",
   "execution_count": 31,
   "id": "4290b4b4-8ead-4051-a0d6-d91c9effd296",
   "metadata": {},
   "outputs": [
    {
     "name": "stdout",
     "output_type": "stream",
     "text": [
      "Timer started...\n",
      "This runs after 3 seconds!\n"
     ]
    }
   ],
   "source": [
    "import threading\n",
    "\n",
    "def my_function():\n",
    "    print(\"This runs after 3 seconds!\")\n",
    "\n",
    "# Set a timer for 3 seconds and then call `my_function`\n",
    "timer = threading.Timer(3.0, my_function)\n",
    "timer.start()\n",
    "\n",
    "print(\"Timer started...\")\n"
   ]
  },
  {
   "cell_type": "code",
   "execution_count": 35,
   "id": "5aa19f44-4bf8-43a1-bc59-bafe20b73471",
   "metadata": {},
   "outputs": [
    {
     "name": "stdout",
     "output_type": "stream",
     "text": [
      "Execution time: 0.14023424999322742 seconds\n"
     ]
    }
   ],
   "source": [
    "import timeit\n",
    "\n",
    "# Measure the time taken to execute the code 10,000 times\n",
    "execution_time = timeit.timeit('\"-\".join(str(n) for n in range(100))', number=10000)\n",
    "print(f\"Execution time: {execution_time} seconds\")\n"
   ]
  },
  {
   "cell_type": "code",
   "execution_count": 56,
   "id": "d7c0f5c6-c881-480f-8ecd-c36af7e7bf73",
   "metadata": {},
   "outputs": [
    {
     "name": "stdout",
     "output_type": "stream",
     "text": [
      "Afo\n",
      "Af\n",
      "[77, 3, 14]\n"
     ]
    }
   ],
   "source": [
    "list = [1,2,3,14]\n",
    "list[0] = \"Afo\" #updating list should be ['Afo',2,3,14]\n",
    "myname = \"Afolabi\"\n",
    "first_2 = myname[0:2] #slicing result should Af\n",
    "first_2_list = list[:] #copying ['Afo',2,3,14]\n",
    "first_2_list[1] = 77 # ['Afo',77,3,14]\n",
    "# what_i_popped = first_2_list.pop(0)\n",
    "del first_2_list[0]\n",
    "print(what_i_popped)\n",
    "print(first_2)\n",
    "print(first_2_list)"
   ]
  },
  {
   "cell_type": "code",
   "execution_count": 59,
   "id": "4b48f3fe-0010-447b-b8e2-967b9cdab30f",
   "metadata": {},
   "outputs": [
    {
     "name": "stdout",
     "output_type": "stream",
     "text": [
      "ojo\n"
     ]
    }
   ],
   "source": [
    "name = \"Adeojo\"\n",
    "name = name[3:]\n",
    "print(name)"
   ]
  },
  {
   "cell_type": "code",
   "execution_count": 62,
   "id": "4d715b77-2eb4-4bd9-a4cf-502da0fa2152",
   "metadata": {},
   "outputs": [
    {
     "name": "stdout",
     "output_type": "stream",
     "text": [
      "['Z', 'X', 'O', 'E', 'D', 'B', 'A']\n"
     ]
    }
   ],
   "source": [
    "names = ['A','B','E','Z','X','O','D']\n",
    "names.sort(reverse=True)\n",
    "print(names)"
   ]
  },
  {
   "cell_type": "code",
   "execution_count": 73,
   "id": "ca5a8a03-175b-4c82-9b4a-68995f65156a",
   "metadata": {},
   "outputs": [
    {
     "name": "stdout",
     "output_type": "stream",
     "text": [
      "@metro\n"
     ]
    }
   ],
   "source": [
    "my_school = {'name':'Metro Hub','addr':'Kolapo Ishola','phone':'08077667766','fb':'@metro'}\n",
    "print(my_school[\"fb\"])"
   ]
  },
  {
   "cell_type": "code",
   "execution_count": 78,
   "id": "707faed1-c99b-4374-aa70-0a8a0d0bacf8",
   "metadata": {},
   "outputs": [
    {
     "name": "stdout",
     "output_type": "stream",
     "text": [
      "{'primary': 'Concord', 'secondary': '', 'tertiary': 'FUTA', 'post_graduate': ''}\n"
     ]
    }
   ],
   "source": [
    "educational_background = {\"primary\":\"\",\"secondary\":\"\",\"tertiary\":\"\",\"post_graduate\":\"\"}\n",
    "educational_background[\"primary\"] = \"Valencia\"\n",
    "educational_background.update({\"primary\":\"Concord\",\"tertiary\":\"FUTA\"})\n",
    "print(educational_background)"
   ]
  },
  {
   "cell_type": "code",
   "execution_count": 92,
   "id": "a7ebb00d-2582-45e3-a469-14d3a46a6fa3",
   "metadata": {},
   "outputs": [
    {
     "name": "stdout",
     "output_type": "stream",
     "text": [
      "You are questionable\n"
     ]
    }
   ],
   "source": [
    "gender = \"fela\"\n",
    "if gender==\"male\":\n",
    "    print(\"Yes, it is a male\")\n",
    "elif gender==\"female\":\n",
    "    print(\"Is a female\")\n",
    "else:\n",
    "    print(\"You are questionable\")"
   ]
  },
  {
   "cell_type": "code",
   "execution_count": 95,
   "id": "08b162ff-0312-431d-9f9b-5a3f81a5867f",
   "metadata": {},
   "outputs": [
    {
     "name": "stdout",
     "output_type": "stream",
     "text": [
      "You are a minor\n"
     ]
    }
   ],
   "source": [
    "age  = 14\n",
    "if age<18:\n",
    "    print(\"You are a minor\")\n",
    "elif age==18:\n",
    "    print(\"You just become an adult\")\n",
    "else:\n",
    "    print(\"You don turn baba\")"
   ]
  },
  {
   "cell_type": "code",
   "execution_count": 97,
   "id": "f65b4da3-e9f5-49e5-9bdd-ed7b368dcf44",
   "metadata": {},
   "outputs": [
    {
     "name": "stdout",
     "output_type": "stream",
     "text": [
      "Grade is: B\n"
     ]
    }
   ],
   "source": [
    "score = 69\n",
    "if score==100:\n",
    "    print(\"Grade is: A\")\n",
    "elif score>=70:\n",
    "    print(\"Grade is: A\")\n",
    "elif score>=60:\n",
    "    print(\"Grade is: B\")"
   ]
  },
  {
   "cell_type": "code",
   "execution_count": 113,
   "id": "8277b5f0-e1fc-41b8-908b-53b2ad943224",
   "metadata": {},
   "outputs": [
    {
     "name": "stdout",
     "output_type": "stream",
     "text": [
      "Grade is F\n"
     ]
    }
   ],
   "source": [
    "# score is betweeen 70 and 100 =  A ..... done\n",
    "# score is betweeen 60 and 69 =  B ..... done\n",
    "# score is betweeen 50 and 59 =  C ..... done\n",
    "# score is betweeen 45 and 49 =  D .... done\n",
    "# score is betweeen 40 and 44 =  E  .... done\n",
    "# score is between 0 and 39  = F\n",
    "score = -10\n",
    "if score>=70:\n",
    "    print(\"Grade is A\")\n",
    "elif score>=60:\n",
    "    print(\"Grade is B\")\n",
    "elif score>=50:\n",
    "    print(\"Grade is C\")\n",
    "elif score>=45:\n",
    "    print(\"Grade is D\")\n",
    "elif score>=40:\n",
    "    print(\"Grade is E\")\n",
    "else:\n",
    "    print(\"Grade is F\")"
   ]
  },
  {
   "cell_type": "code",
   "execution_count": 119,
   "id": "453e50c1-24c1-47b5-bb81-d6d2e944024c",
   "metadata": {},
   "outputs": [
    {
     "name": "stdout",
     "output_type": "stream",
     "text": [
      "YEs it is true you scored above the cut off. But unfortunately, you are not of age according to Tinubu's government. I am so sorry, I know how you feel\n"
     ]
    }
   ],
   "source": [
    "# age should be more than or equals to 18\n",
    "# cut off marke must be greater or equals to 200\n",
    "score = 300\n",
    "age = 16\n",
    "if age>=18:\n",
    "    if score>=200:\n",
    "        print(\"You are qualified\")\n",
    "    else:\n",
    "        print(\"You are not qualified. Try again when you score more than 200\")\n",
    "else:\n",
    "    if(score>=200):\n",
    "        print(\"YEs it is true you scored above the cut off. But unfortunately, you are not of age according to Tinubu's government. I am so sorry, I know how you feel\")\n",
    "    else:\n",
    "        print(\"You must be over 18 to gain admission\")"
   ]
  },
  {
   "cell_type": "code",
   "execution_count": 123,
   "id": "558cc0c9-ceda-4aa6-b071-cb3bec8bb5de",
   "metadata": {},
   "outputs": [
    {
     "name": "stdout",
     "output_type": "stream",
     "text": [
      "You do not have enough system RAM\n"
     ]
    }
   ],
   "source": [
    "ram = 6\n",
    "tuition = \"unpaid\"\n",
    "if ram>=8:\n",
    "    if tuition==\"paid\":\n",
    "        print(\"You are qualified for cybersecurity course\")\n",
    "    else:\n",
    "        print(\"You have enough RAM but you are yet to pay for your tuition\")\n",
    "else:\n",
    "    print(\"You do not have enough system RAM\")"
   ]
  },
  {
   "cell_type": "code",
   "execution_count": 128,
   "id": "5b6b81c2-7468-40f5-bb35-36bf216d6d13",
   "metadata": {},
   "outputs": [
    {
     "name": "stdout",
     "output_type": "stream",
     "text": [
      "You are not qualified\n"
     ]
    }
   ],
   "source": [
    "english = \"E8\"\n",
    "math = \"F9\"\n",
    "if english==\"C6\":\n",
    "    if math==\"C6\":\n",
    "        print(\"Yes, you are qualified\")\n",
    "    else:\n",
    "        print(\"You have C6 in English but you do not have C6 in Math\")\n",
    "else:\n",
    "    if math=='C6':\n",
    "        print(\"You have math but do not have english\")\n",
    "    else:\n",
    "        print(\"You are not qualified\")"
   ]
  },
  {
   "cell_type": "code",
   "execution_count": null,
   "id": "d712a424-231c-4828-8bca-2d0d635e6d82",
   "metadata": {},
   "outputs": [],
   "source": [
    "sunday_school_score = 5 #pass mark is 70 and above\n",
    "math_score = 100 #pass mark is 70 and above\n",
    "#once you score over in either of the 2 you are qualified for a GIFT\n"
   ]
  },
  {
   "cell_type": "code",
   "execution_count": 133,
   "id": "22716087-ad64-48b1-8402-980fbdddd8ce",
   "metadata": {},
   "outputs": [
    {
     "name": "stdout",
     "output_type": "stream",
     "text": [
      "Access granted\n"
     ]
    }
   ],
   "source": [
    "if colour == \"green\":\n",
    "    print(\"Approved\")\n",
    "elif colour == \"blue\":\n",
    "    print(\"Still Approved\")\n",
    "else:\n",
    "    print(\"Not Approved\")\n"
   ]
  },
  {
   "cell_type": "code",
   "execution_count": 137,
   "id": "7e65cdc3-2384-40e1-adeb-88e76c1f566b",
   "metadata": {},
   "outputs": [
    {
     "name": "stdout",
     "output_type": "stream",
     "text": [
      "you are on probation\n"
     ]
    }
   ],
   "source": [
    "A= 20\n",
    "b= 20\n",
    "c= A+b\n",
    "if c>=50:\n",
    "    print(\"visa approved\")\n",
    "elif c>=40 or c<49:\n",
    "    print(\"you are on probation\")\n",
    "\n",
    "else:\n",
    "    print(\"visa denied\")"
   ]
  },
  {
   "cell_type": "code",
   "execution_count": 143,
   "id": "83d0175b-2fc7-411e-8dbf-2e6dd36fe629",
   "metadata": {},
   "outputs": [
    {
     "name": "stdout",
     "output_type": "stream",
     "text": [
      "bobrisky\n"
     ]
    }
   ],
   "source": [
    "gender =\"non binary\"\n",
    "if gender == \"male\":\n",
    "    print(\" human being\")\n",
    "elif gender == \"female\":\n",
    "    print(\" human being\")\n",
    "else: \n",
    "    print(\"bobrisky\")"
   ]
  },
  {
   "cell_type": "code",
   "execution_count": null,
   "id": "ff263979-bd63-4205-99ed-b21bb113a7d6",
   "metadata": {},
   "outputs": [],
   "source": []
  }
 ],
 "metadata": {
  "kernelspec": {
   "display_name": "Python 3 (ipykernel)",
   "language": "python",
   "name": "python3"
  },
  "language_info": {
   "codemirror_mode": {
    "name": "ipython",
    "version": 3
   },
   "file_extension": ".py",
   "mimetype": "text/x-python",
   "name": "python",
   "nbconvert_exporter": "python",
   "pygments_lexer": "ipython3",
   "version": "3.12.4"
  }
 },
 "nbformat": 4,
 "nbformat_minor": 5
}
